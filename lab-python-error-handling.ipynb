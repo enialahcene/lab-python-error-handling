{
 "cells": [
  {
   "cell_type": "markdown",
   "id": "25d7736c-ba17-4aff-b6bb-66eba20fbf4e",
   "metadata": {},
   "source": [
    "# Lab | Error Handling"
   ]
  },
  {
   "cell_type": "markdown",
   "id": "bc99b386-7508-47a0-bcdb-d969deaf6c8b",
   "metadata": {},
   "source": [
    "## Exercise: Error Handling for Managing Customer Orders\n",
    "\n",
    "The implementation of your code for managing customer orders assumes that the user will always enter a valid input. \n",
    "\n",
    "For example, we could modify the `initialize_inventory` function to include error handling.\n",
    "   - If the user enters an invalid quantity (e.g., a negative value or a non-numeric value), display an error message and ask them to re-enter the quantity for that product.\n",
    "   - Use a try-except block to handle the error and continue prompting the user until a valid quantity is entered.\n",
    "\n",
    "```python\n",
    "# Step 1: Define the function for initializing the inventory with error handling\n",
    "def initialize_inventory(products):\n",
    "    inventory = {}\n",
    "    for product in products:\n",
    "        valid_quantity = False\n",
    "        while not valid_quantity:\n",
    "            try:\n",
    "                quantity = int(input(f\"Enter the quantity of {product}s available: \"))\n",
    "                if quantity < 0:\n",
    "                    raise ValueError(\"Invalid quantity! Please enter a non-negative value.\")\n",
    "                valid_quantity = True\n",
    "            except ValueError as error:\n",
    "                print(f\"Error: {error}\")\n",
    "        inventory[product] = quantity\n",
    "    return inventory\n",
    "\n",
    "# Or, in another way:\n",
    "\n",
    "def initialize_inventory(products):\n",
    "    inventory = {}\n",
    "    for product in products:\n",
    "        valid_input = False\n",
    "        while not valid_input:\n",
    "            try:\n",
    "                quantity = int(input(f\"Enter the quantity of {product}s available: \"))\n",
    "                if quantity >= 0:\n",
    "                    inventory[product] = quantity\n",
    "                    valid_input = True\n",
    "                else:\n",
    "                    print(\"Quantity cannot be negative. Please enter a valid quantity.\")\n",
    "            except ValueError:\n",
    "                print(\"Invalid input. Please enter a valid quantity.\")\n",
    "    return inventory\n",
    "```\n",
    "\n",
    "Let's enhance your code by implementing error handling to handle invalid inputs.\n",
    "\n",
    "Follow the steps below to complete the exercise:\n",
    "\n",
    "2. Modify the `calculate_total_price` function to include error handling.\n",
    "   - If the user enters an invalid price (e.g., a negative value or a non-numeric value), display an error message and ask them to re-enter the price for that product.\n",
    "   - Use a try-except block to handle the error and continue prompting the user until a valid price is entered.\n",
    "\n",
    "3. Modify the `get_customer_orders` function to include error handling.\n",
    "   - If the user enters an invalid number of orders (e.g., a negative value or a non-numeric value), display an error message and ask them to re-enter the number of orders.\n",
    "   - If the user enters an invalid product name (e.g., a product name that is not in the inventory), or that doesn't have stock available, display an error message and ask them to re-enter the product name. *Hint: you will need to pass inventory as a parameter*\n",
    "   - Use a try-except block to handle the error and continue prompting the user until a valid product name is entered.\n",
    "\n",
    "4. Test your code by running the program and deliberately entering invalid quantities and product names. Make sure the error handling mechanism works as expected.\n"
   ]
  },
  {
   "cell_type": "code",
   "execution_count": 7,
   "id": "964e34bd",
   "metadata": {},
   "outputs": [
    {
     "name": "stdout",
     "output_type": "stream",
     "text": [
      "Error: Invalid quantity! Please enter a non-negative value.\n",
      "Error: invalid literal for int() with base 10: 'djd'\n",
      "Error: invalid literal for int() with base 10: 'dd'\n"
     ]
    }
   ],
   "source": [
    "def initialize_inventory(products):\n",
    "    inventory = {}\n",
    "    for product in products:\n",
    "        valid_quantity = False\n",
    "        while not valid_quantity:\n",
    "            try:\n",
    "                quantity = int(input(f\"Enter the quantity of {product}s available: \"))\n",
    "                if quantity < 0:\n",
    "                    raise ValueError(\"Invalid quantity! Please enter a non-negative value.\")\n",
    "                valid_quantity = True\n",
    "            except ValueError as error:\n",
    "                print(f\"Error: {error}\")\n",
    "        inventory[product] = quantity\n",
    "    return inventory\n",
    "\n",
    "products = [\"t-shirt\", \"mug\", \"hat\", \"book\", \"keychain\"]\n",
    "\n",
    "inventory = initialize_inventory(products)"
   ]
  },
  {
   "cell_type": "code",
   "execution_count": 9,
   "id": "1081d185",
   "metadata": {},
   "outputs": [],
   "source": [
    "def get_customer_orders():\n",
    "    customer_orders = set()\n",
    "\n",
    "    answer = \"YES\"\n",
    "\n",
    "    while answer == \"YES\":\n",
    "        order = input(f\"Enter the name of a product from the list: {products} \")\n",
    "        while order not in products:\n",
    "            order = input(f\"That value is not on the list. Please, add a value from the following list {products} \")\n",
    "        customer_orders.add(order)\n",
    "        answer = input(\"Do you want to add another product? Ask yes or not: \").upper()\n",
    "    return customer_orders\n",
    "\n",
    "customer_orders = get_customer_orders()"
   ]
  },
  {
   "cell_type": "code",
   "execution_count": 11,
   "id": "d1682ae1",
   "metadata": {},
   "outputs": [
    {
     "name": "stdout",
     "output_type": "stream",
     "text": [
      "Invalid input: Price cannot be negative.. Please enter a valid price.\n",
      "Invalid input: could not convert string to float: 'hd'. Please enter a valid price.\n",
      "Invalid input: could not convert string to float: 'ddd'. Please enter a valid price.\n",
      "The total price for your orders is: 15.0€\n"
     ]
    }
   ],
   "source": [
    "def enter_price(customer_orders):\n",
    "    total_price = 0\n",
    "    for product in customer_orders:\n",
    "        while True:\n",
    "            try:\n",
    "                price = float(input(f\"Enter the price of the {product}: \"))\n",
    "                if price < 0:\n",
    "                    raise ValueError(\"Price cannot be negative\")\n",
    "                total_price += price\n",
    "                break  \n",
    "            except ValueError as e:\n",
    "                print(f\"Invalid input: {e}. Please enter a valid price.\")\n",
    "    \n",
    "    return f\"{total_price}€\"\n",
    "\n",
    "\n",
    "total_prices = enter_price(customer_orders=customer_orders)\n",
    "print(f\"The total price for your orders is: {total_prices}\")\n",
    "\n"
   ]
  },
  {
   "cell_type": "code",
   "execution_count": 13,
   "id": "20f8fb95",
   "metadata": {},
   "outputs": [
    {
     "name": "stdout",
     "output_type": "stream",
     "text": [
      "Invalid input: invalid literal for int() with base 10: 'mug'. Please enter a valid number of orders.\n",
      "Sorry, orange is out of stock.\n",
      "That value is not on the list. Please choose from the following list: ['apple', 'banana', 'orange'].\n",
      "Your orders: {'banana'}\n"
     ]
    }
   ],
   "source": [
    "def get_customer_orders(products, inventory):\n",
    "    customer_orders = set()\n",
    "\n",
    "    while True:\n",
    "        try:\n",
    "            num_orders = int(input(\"Enter the number of products you want to order: \"))\n",
    "            if num_orders <= 0:\n",
    "                raise ValueError(\"Number of orders must be a positive integer.\")\n",
    "            break  # Sale del bucle si el número es válido\n",
    "        except ValueError as e:\n",
    "            print(f\"Invalid input: {e}. Please enter a valid number of orders.\")\n",
    "\n",
    "    for _ in range(num_orders):\n",
    "        while True:\n",
    "            order = input(f\"Enter the name of a product from the list: {products} \")\n",
    "            if order not in products:\n",
    "                print(f\"That value is not on the list. Please choose from the following list: {products}.\")\n",
    "            elif inventory.get(order, 0) <= 0:  # Verifica si hay stock\n",
    "                print(f\"Sorry, {order} is out of stock.\")\n",
    "            else:\n",
    "                customer_orders.add(order)\n",
    "                inventory[order] -= 1  # Reduce el stock\n",
    "                break  # Sale del bucle si el producto es válido y hay stock\n",
    "\n",
    "        another = input(\"Do you want to add another product? (yes/no): \").lower()\n",
    "        if another != \"yes\":\n",
    "            break\n",
    "\n",
    "    return customer_orders\n",
    "\n",
    "products = [\"t-shirt\", \"mug\", \"hat\", \"book\", \"keychain\"]\n",
    "inventory = {\"apple\": 5, \"banana\": 3, \"orange\": 0}  # Inventario con cantidad de cada producto\n",
    "\n",
    "customer_orders = get_customer_orders(products, inventory)\n",
    "print(f\"Your orders: {customer_orders}\")\n"
   ]
  }
 ],
 "metadata": {
  "kernelspec": {
   "display_name": "Python 3 (ipykernel)",
   "language": "python",
   "name": "python3"
  },
  "language_info": {
   "codemirror_mode": {
    "name": "ipython",
    "version": 3
   },
   "file_extension": ".py",
   "mimetype": "text/x-python",
   "name": "python",
   "nbconvert_exporter": "python",
   "pygments_lexer": "ipython3",
   "version": "3.12.6"
  }
 },
 "nbformat": 4,
 "nbformat_minor": 5
}
